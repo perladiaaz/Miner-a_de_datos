{
 "cells": [
  {
   "cell_type": "markdown",
   "metadata": {},
   "source": [
    "- Programa 1 Hola mundo"
   ]
  },
  {
   "cell_type": "code",
   "execution_count": 2,
   "metadata": {},
   "outputs": [
    {
     "name": "stdout",
     "output_type": "stream",
     "text": [
      "Hola mundo\n"
     ]
    }
   ],
   "source": [
    "print('Hola mundo')"
   ]
  },
  {
   "cell_type": "markdown",
   "metadata": {},
   "source": [
    "# Ejercicios Generales"
   ]
  },
  {
   "cell_type": "markdown",
   "metadata": {},
   "source": [
    "## Ejercicio 1:"
   ]
  },
  {
   "cell_type": "markdown",
   "metadata": {},
   "source": [
    "Realiza una variable con tu matricula y realiza una secuencia de imprimir con tu nombre y tu matricula concatenados."
   ]
  },
  {
   "cell_type": "code",
   "execution_count": 3,
   "metadata": {},
   "outputs": [
    {
     "name": "stdout",
     "output_type": "stream",
     "text": [
      "Perla Millet Díaz Talamantes 1809285\n"
     ]
    }
   ],
   "source": [
    "Matricula = str(1809285)\n",
    "Nombre = \"Perla Millet Díaz Talamantes\"\n",
    "Concatenar = Nombre + \" \" + Matricula\n",
    "print(Concatenar)"
   ]
  },
  {
   "cell_type": "markdown",
   "metadata": {},
   "source": [
    "- Programa 2 Matemáticas sencillas"
   ]
  },
  {
   "cell_type": "code",
   "execution_count": 4,
   "metadata": {},
   "outputs": [
    {
     "name": "stdout",
     "output_type": "stream",
     "text": [
      "10 54 2926\n"
     ]
    }
   ],
   "source": [
    "a = 10\n",
    "b = 54\n",
    "\n",
    "c = a + b**2\n",
    "print (a, b, c)"
   ]
  },
  {
   "cell_type": "markdown",
   "metadata": {},
   "source": [
    "Input del usuario:"
   ]
  },
  {
   "cell_type": "code",
   "execution_count": 5,
   "metadata": {},
   "outputs": [
    {
     "name": "stdout",
     "output_type": "stream",
     "text": [
      "Introduce un número:10\n",
      "Introduce otro número: 5\n",
      "Primer número:  10\n",
      "Segundo número:  5\n"
     ]
    }
   ],
   "source": [
    "a1 = int(input(\"Introduce un número:\" ))\n",
    "b1 = int(input(\"Introduce otro número: \"))\n",
    "\n",
    "print (\"Primer número: \", a1)\n",
    "print(\"Segundo número: \", b1)"
   ]
  },
  {
   "cell_type": "markdown",
   "metadata": {},
   "source": [
    "## Ejercicio 2"
   ]
  },
  {
   "cell_type": "markdown",
   "metadata": {},
   "source": [
    "Pidiendo el input del usuario pide dos números y crea una pequeña calculadora con los operadores básicos de suma, resta, multiplicación, división, y exponente."
   ]
  },
  {
   "cell_type": "code",
   "execution_count": 6,
   "metadata": {},
   "outputs": [
    {
     "name": "stdout",
     "output_type": "stream",
     "text": [
      "Introduce un número (a): 10\n",
      "Introduce otro número (b): 2\n",
      "\n",
      "\n",
      " Seleccione la operación que desea realizar: \n",
      " 1.- Suma (a + b)\n",
      " 2.- Resta (a - b)\n",
      " 3.- Resta (b - a)\n",
      " 4.- Multiplicación (a * b)\n",
      " 5.- División (a / b)\n",
      " 6.- División (b / a\n",
      " 7.- Exponente (a ** b)\n",
      " 8.- Exponente (b ** a\n",
      " 0.- Salir\n",
      " Opción: 7\n",
      "\n",
      "El resultado es: 100.0\n",
      "\n",
      "Presione 0 para salir u otro numero para continuar: 1\n",
      "\n",
      "\n",
      " Seleccione la operación que desea realizar: \n",
      " 1.- Suma (a + b)\n",
      " 2.- Resta (a - b)\n",
      " 3.- Resta (b - a)\n",
      " 4.- Multiplicación (a * b)\n",
      " 5.- División (a / b)\n",
      " 6.- División (b / a\n",
      " 7.- Exponente (a ** b)\n",
      " 8.- Exponente (b ** a\n",
      " 0.- Salir\n",
      " Opción: 2\n",
      "\n",
      "El resultado es: 8.0\n",
      "\n",
      "Presione 0 para salir u otro numero para continuar: 0\n"
     ]
    }
   ],
   "source": [
    "op = int(1)\n",
    "a = float(input(\"Introduce un número (a): \"))\n",
    "b = float(input(\"Introduce otro número (b): \"))\n",
    "\n",
    "\n",
    "while op != 0:\n",
    "    print()\n",
    "    print(\"\\n Seleccione la operación que desea realizar: \")\n",
    "    print(\" 1.- Suma (a + b)\")\n",
    "    print(\" 2.- Resta (a - b)\")\n",
    "    print(\" 3.- Resta (b - a)\")\n",
    "    print(\" 4.- Multiplicación (a * b)\")\n",
    "    print(\" 5.- División (a / b)\")\n",
    "    print(\" 6.- División (b / a\")\n",
    "    print(\" 7.- Exponente (a ** b)\")\n",
    "    print(\" 8.- Exponente (b ** a\")\n",
    "    print(\" 0.- Salir\")\n",
    "    op = int(input(\" Opción: \"))\n",
    "\n",
    "    if op == 1:\n",
    "        res = a + b\n",
    "    elif op == 2:\n",
    "        res = a - b\n",
    "    elif op == 3:\n",
    "        res = b - a\n",
    "    elif op == 4:\n",
    "        res = a * b\n",
    "    elif op == 5:\n",
    "        res = a / b\n",
    "    elif op == 6:\n",
    "        res = b / a\n",
    "    elif op == 7:\n",
    "        res = a ** b\n",
    "    elif op == 8:\n",
    "        res = b ** a\n",
    "    elif op == 0:\n",
    "        break\n",
    "    else:\n",
    "        print(\"La opción no existe, inténtelo de nuevo.\")\n",
    "        break\n",
    "    \n",
    "    print(\"\\nEl resultado es:\", res)\n",
    "    \n",
    "    op = int(input(\"\\nPresione 0 para salir u otro numero para continuar: \"))"
   ]
  },
  {
   "cell_type": "markdown",
   "metadata": {},
   "source": [
    "Utilizando el loop de while"
   ]
  },
  {
   "cell_type": "code",
   "execution_count": 7,
   "metadata": {},
   "outputs": [
    {
     "name": "stdout",
     "output_type": "stream",
     "text": [
      "1\n",
      "2\n",
      "3\n",
      "4\n",
      "5\n",
      "6\n",
      "7\n",
      "8\n",
      "9\n",
      "10\n"
     ]
    }
   ],
   "source": [
    "i=1\n",
    "while i <= 10:\n",
    "    print (i)\n",
    "    i=i+1\n",
    "    \n",
    "#i =+1"
   ]
  },
  {
   "cell_type": "markdown",
   "metadata": {},
   "source": [
    "Utilizando la función de range:"
   ]
  },
  {
   "cell_type": "code",
   "execution_count": 8,
   "metadata": {},
   "outputs": [
    {
     "name": "stdout",
     "output_type": "stream",
     "text": [
      "range(10) -->  [0, 1, 2, 3, 4, 5, 6, 7, 8, 9]\n",
      "range(0,20) -->  [0, 1, 2, 3, 4, 5, 6, 7, 8, 9, 10, 11, 12, 13, 14, 15, 16, 17, 18, 19]\n",
      "range(10,20) -->  [10, 11, 12, 13, 14, 15, 16, 17, 18, 19]\n",
      "range(0,20,2) -->  [0, 2, 4, 6, 8, 10, 12, 14, 16, 18]\n",
      "range(-10,-20,2) -->  []\n",
      "range(-10,-20,-2) -->  [-10, -12, -14, -16, -18]\n"
     ]
    }
   ],
   "source": [
    "print (\"range(10) --> \", list(range(10)))\n",
    "print (\"range(0,20) --> \", list(range(0,20)))\n",
    "print (\"range(10,20) --> \", list(range(10,20)))\n",
    "print (\"range(0,20,2) --> \", list(range(0,20,2)))\n",
    "print (\"range(-10,-20,2) --> \", list(range(-10,-20,2)))\n",
    "print (\"range(-10,-20,-2) --> \", list(range(-10,-20,-2)))"
   ]
  },
  {
   "cell_type": "markdown",
   "metadata": {},
   "source": [
    "Utilizando la función de range en el loop de for:"
   ]
  },
  {
   "cell_type": "code",
   "execution_count": 9,
   "metadata": {},
   "outputs": [
    {
     "name": "stdout",
     "output_type": "stream",
     "text": [
      "0\n",
      "1\n",
      "2\n",
      "3\n",
      "4\n",
      "5\n",
      "6\n",
      "7\n",
      "8\n",
      "9\n"
     ]
    }
   ],
   "source": [
    "for i in range(0,10):\n",
    "    print (i)"
   ]
  },
  {
   "cell_type": "code",
   "execution_count": 10,
   "metadata": {},
   "outputs": [
    {
     "name": "stdout",
     "output_type": "stream",
     "text": [
      "5  *  1  =  5\n",
      "5  *  2  =  10\n",
      "5  *  3  =  15\n",
      "5  *  4  =  20\n",
      "5  *  5  =  25\n",
      "5  *  6  =  30\n",
      "5  *  7  =  35\n",
      "5  *  8  =  40\n",
      "5  *  9  =  45\n",
      "5  *  10  =  50\n"
     ]
    }
   ],
   "source": [
    "for i in range(1,11):\n",
    "    print (5,\" * \", i , \" = \", i * 5)"
   ]
  },
  {
   "cell_type": "markdown",
   "metadata": {},
   "source": [
    "## Ejercicio 3"
   ]
  },
  {
   "cell_type": "markdown",
   "metadata": {},
   "source": [
    "Con loop while o for, realiza una lista de 10 numeros multiplos de 3, y después realiza una función de loop que sume todos los números dentro del arreglo."
   ]
  },
  {
   "cell_type": "code",
   "execution_count": 11,
   "metadata": {},
   "outputs": [
    {
     "name": "stdout",
     "output_type": "stream",
     "text": [
      "La suma de [57. 75. 48. 84. 99. 33. 84. 69. 24. 24.]  es igual a  573.0\n"
     ]
    }
   ],
   "source": [
    "import random\n",
    "from numpy import *\n",
    "i = 0\n",
    "\n",
    "arreglo = zeros(10)\n",
    "\n",
    "while (i < 10):\n",
    "    aleatorio = random.randint(0,100)\n",
    "    if aleatorio%3 == 0:\n",
    "        arreglo[i] = aleatorio\n",
    "        i += 1\n",
    "        \n",
    "suma = 0\n",
    "for i in range(0,9):\n",
    "    suma += arreglo[i]\n",
    "    \n",
    "print( \"La suma de\", arreglo, \" es igual a \",suma)"
   ]
  },
  {
   "cell_type": "code",
   "execution_count": 12,
   "metadata": {},
   "outputs": [
    {
     "name": "stdout",
     "output_type": "stream",
     "text": [
      "Introduce primer número: 9\n",
      "Introduce segundo número: 3\n",
      "9  >  3\n"
     ]
    }
   ],
   "source": [
    "a = int(input(\"Introduce primer número: \"))\n",
    "b = int(input(\"Introduce segundo número: \"))\n",
    "if  a > b: \n",
    "    print (a,\" > \",b)\n",
    "else:\n",
    "    print (a,\" < \",b)"
   ]
  },
  {
   "cell_type": "markdown",
   "metadata": {},
   "source": [
    "## Ejercicio 4\n"
   ]
  },
  {
   "cell_type": "markdown",
   "metadata": {},
   "source": [
    "- Con una función de if else, revisar si un número es par o es impar.\n",
    "- Con una función de if else, revisar si un número es primo o no."
   ]
  },
  {
   "cell_type": "code",
   "execution_count": 13,
   "metadata": {},
   "outputs": [
    {
     "name": "stdout",
     "output_type": "stream",
     "text": [
      "Ingresa el número a revisar: 9\n",
      "\n",
      " El número  9  es impar.\n",
      "\n",
      " El número  9  no es primo.\n"
     ]
    }
   ],
   "source": [
    "n = int(input(\"Ingresa el número a revisar: \"))\n",
    "\n",
    "if ((-1)**n == -1):\n",
    "    print(\"\\n El número \",n,\" es impar.\")\n",
    "else:\n",
    "    print(\"\\n El número \",n,\" es par.\")\n",
    "\n",
    "contador = 0\n",
    "for i in range(1,n+1):\n",
    "    if((n%i) == 0):\n",
    "        contador += 1\n",
    "\n",
    "if contador == 2:\n",
    "    print(\"\\n El número \", n, \" es primo.\")\n",
    "else:\n",
    "    print(\"\\n El número \", n, \" no es primo.\")"
   ]
  },
  {
   "cell_type": "markdown",
   "metadata": {},
   "source": [
    "## Ejercicio 5"
   ]
  },
  {
   "cell_type": "markdown",
   "metadata": {},
   "source": [
    "Utilizando diferentes clases en python, crea una calculadora con los operadores básicos de suma, resta, multiplicación, división, y exponente."
   ]
  },
  {
   "cell_type": "code",
   "execution_count": 14,
   "metadata": {},
   "outputs": [
    {
     "name": "stdout",
     "output_type": "stream",
     "text": [
      "Introduce un número (a): 6\n",
      "Introduce otro número (b): 9\n",
      "\n",
      "\n",
      " Seleccione la operación que desea realizar: \n",
      " 1.- Suma (a + b)\n",
      " 2.- Resta (a - b)\n",
      " 3.- Resta (b - a)\n",
      " 4.- Multiplicación (a * b)\n",
      " 5.- División (a / b)\n",
      " 6.- División (b / a\n",
      " 7.- Exponente (a ** b)\n",
      " 8.- Exponente (b ** a\n",
      " 0.- Salir\n",
      " Opción: 1\n",
      "El resultado de  6.0 + 9.0 es  15.0\n",
      "\n",
      "Presione 0 para salir u otro numero para continuar: 2\n",
      "\n",
      "\n",
      " Seleccione la operación que desea realizar: \n",
      " 1.- Suma (a + b)\n",
      " 2.- Resta (a - b)\n",
      " 3.- Resta (b - a)\n",
      " 4.- Multiplicación (a * b)\n",
      " 5.- División (a / b)\n",
      " 6.- División (b / a\n",
      " 7.- Exponente (a ** b)\n",
      " 8.- Exponente (b ** a\n",
      " 0.- Salir\n",
      " Opción: 4\n",
      "El resultado de  6.0 * 9.0 es  54.0\n",
      "\n",
      "Presione 0 para salir u otro numero para continuar: 0\n"
     ]
    }
   ],
   "source": [
    "class Calculadora:\n",
    "    def Suma(a,b):\n",
    "        res = str(a + b)\n",
    "        print(\"El resultado de \", a, \"+\",b, \"es \", res)\n",
    "    def Resta(a,b):\n",
    "        res = str(a - b)\n",
    "        print(\"El resultado de \", a, \"-\",b, \"es \", res)\n",
    "    def Multiplicación(a,b):\n",
    "        res = str(a * b)\n",
    "        print(\"El resultado de \", a, \"*\",b, \"es \", res)     \n",
    "    def División(a,b):\n",
    "        res = str(a / b)\n",
    "        print(\"El resultado de \", a, \"/\",b, \"es \", res) \n",
    "    def Exponente(a,b):\n",
    "        res = str(a ** b)\n",
    "        print(\"El resultado de \", a, \"**\",b, \"es \", res)\n",
    "        \n",
    "op = int(1)\n",
    "a = float(input(\"Introduce un número (a): \"))\n",
    "b = float(input(\"Introduce otro número (b): \"))\n",
    "\n",
    "\n",
    "while op != 0:\n",
    "    print()\n",
    "    print(\"\\n Seleccione la operación que desea realizar: \")\n",
    "    print(\" 1.- Suma (a + b)\")\n",
    "    print(\" 2.- Resta (a - b)\")\n",
    "    print(\" 3.- Resta (b - a)\")\n",
    "    print(\" 4.- Multiplicación (a * b)\")\n",
    "    print(\" 5.- División (a / b)\")\n",
    "    print(\" 6.- División (b / a\")\n",
    "    print(\" 7.- Exponente (a ** b)\")\n",
    "    print(\" 8.- Exponente (b ** a\")\n",
    "    print(\" 0.- Salir\")\n",
    "    op = int(input(\" Opción: \"))\n",
    "\n",
    "    if op == 1:\n",
    "        Calculadora.Suma(a,b)\n",
    "    elif op == 2:\n",
    "        Calculadora.Resta(a,b)\n",
    "    elif op == 3:\n",
    "        Calculadora.Resta(b,a)\n",
    "    elif op == 4:\n",
    "        Calculadora.Multiplicación(a,b)\n",
    "    elif op == 5:\n",
    "        Calculadora.División(a,b)\n",
    "    elif op == 6:\n",
    "        Calculadora.División(b,a)\n",
    "    elif op == 7:\n",
    "        Calculadora.Exponente(a,b)\n",
    "    elif op == 8:\n",
    "        Calculadora.Exponente(b,a)\n",
    "    elif op == 0:\n",
    "        break\n",
    "    else:\n",
    "        print(\"La opción no existe, inténtelo de nuevo.\")\n",
    "        break\n",
    "    \n",
    "    \n",
    "    op = int(input(\"\\nPresione 0 para salir u otro numero para continuar: \"))"
   ]
  },
  {
   "cell_type": "markdown",
   "metadata": {},
   "source": [
    "Funciones matemáticas en la librería de math en python:"
   ]
  },
  {
   "cell_type": "code",
   "execution_count": 15,
   "metadata": {},
   "outputs": [
    {
     "name": "stdout",
     "output_type": "stream",
     "text": [
      "Función exponencial -->  1.3838965267367376e-87\n",
      "Log -->  6.643856189774725\n",
      "Log  -->  2.0\n",
      "Log 10 -->  2.0\n",
      "Coseno -->  0.15425144988758405\n",
      "Seno -->  -0.9880316240928618\n",
      "Tangente -->  -6.405331196646276\n",
      "Raiz cuadrada -->  18.0\n",
      "Valor techo -->  90\n",
      "Valor piso -->  89\n"
     ]
    }
   ],
   "source": [
    "import math as m\n",
    "\n",
    "print (\"Función exponencial --> \", m.exp(-200))  \n",
    "print (\"Log --> \", m.log(100,2)) # Log\n",
    "print (\"Log  --> \", m.log(100,10))# Log\n",
    "print (\"Log 10 --> \", m.log10(100)) # Log 10\n",
    "print (\"Coseno --> \", m.cos(30))    # cos\n",
    "print (\"Seno --> \", m.sin(30))    # sin\n",
    "print (\"Tangente --> \", m.tan(30))    # tan\n",
    "print (\"Raiz cuadrada --> \", m.sqrt(324)) #Raiz\n",
    "print (\"Valor techo --> \", m.ceil(89.9)) #Valor techo\n",
    "print (\"Valor piso --> \", m.floor(89.9)) #Valor piso"
   ]
  },
  {
   "cell_type": "markdown",
   "metadata": {},
   "source": [
    "Como utilizar variables de string como listas para buscar elementos:"
   ]
  },
  {
   "cell_type": "code",
   "execution_count": 16,
   "metadata": {},
   "outputs": [
    {
     "name": "stdout",
     "output_type": "stream",
     "text": [
      "var1 -->  Hola mundo!\n",
      "var2 -->  Programas de python\n",
      "var1[0] -->  H\n",
      "var2[1:5] -->  rogr\n",
      "var2[:-5] -->  Programas de p\n"
     ]
    }
   ],
   "source": [
    "var1 = 'Hola mundo!'\n",
    "var2 = \"Programas de python\"\n",
    " \n",
    "print (\"var1 --> \", var1)\n",
    "print (\"var2 --> \",var2)\n",
    "print (\"var1[0] --> \", var1[0])\n",
    "print (\"var2[1:5] --> \", var2[1:5])\n",
    "print (\"var2[:-5] --> \", var2[:-5])"
   ]
  },
  {
   "cell_type": "code",
   "execution_count": 17,
   "metadata": {},
   "outputs": [
    {
     "name": "stdout",
     "output_type": "stream",
     "text": [
      "var1 -->  Hola mundo!\n",
      "var2 -->  Programas de python\n",
      "\n",
      "Tamaño de var1 --> :  11\n",
      "Tamaño de var2 --> :  19\n",
      "\n",
      "Uppercase para var1 --> :  HOLA MUNDO!\n",
      "Upper case para var2 --> :  PROGRAMAS DE PYTHON\n",
      "\n",
      "Lower case para var1 --> :  hola mundo!\n",
      "Lower case para var2 --> :  programas de python\n"
     ]
    }
   ],
   "source": [
    "ar1 = 'Hola mundo!'\n",
    "var2 = \"Programas de python\"\n",
    "\n",
    "print (\"var1 --> \", var1)\n",
    "print (\"var2 --> \",var2)\n",
    "\n",
    "print (\"\\nTamaño de var1 --> : \", len(var1))\n",
    "print (\"Tamaño de var2 --> : \", len(var2))\n",
    "\n",
    "print (\"\\nUppercase para var1 --> : \", var1.upper())\n",
    "print (\"Upper case para var2 --> : \", var2.upper())\n",
    "\n",
    "print (\"\\nLower case para var1 --> : \", var1.lower())\n",
    "print (\"Lower case para var2 --> : \", var2.lower())"
   ]
  },
  {
   "cell_type": "markdown",
   "metadata": {},
   "source": [
    "Con input del usuario, revisar como introducir valores de numeros, letras y flotantes dentro de un print:"
   ]
  },
  {
   "cell_type": "code",
   "execution_count": 18,
   "metadata": {},
   "outputs": [
    {
     "name": "stdout",
     "output_type": "stream",
     "text": [
      "Introduce tu nombre: Perla\n",
      "Introduce tu edad: 21\n",
      "Precio de tu item: 99\n",
      "Tu nombre es PERLA, edad es 21 y el precio de tu item es 99.000000\n"
     ]
    }
   ],
   "source": [
    "name=input(\"Introduce tu nombre: \")\n",
    "age=int(input(\"Introduce tu edad: \"))\n",
    "price=float(input(\"Precio de tu item: \"))\n",
    "s=\"Tu nombre es %s, edad es %d y el precio de tu item es %f\" %(name.upper(),age,price)\n",
    "print (s)"
   ]
  },
  {
   "cell_type": "markdown",
   "metadata": {},
   "source": [
    "Introducción para el manejo de errores en Python:"
   ]
  },
  {
   "cell_type": "code",
   "execution_count": 19,
   "metadata": {},
   "outputs": [
    {
     "name": "stdout",
     "output_type": "stream",
     "text": [
      "100/ -5  -->  -20.0\n",
      "100/ -4  -->  -25.0\n",
      "100/ -3  -->  -33.333333333333336\n",
      "100/ -2  -->  -50.0\n",
      "100/ -1  -->  -100.0\n"
     ]
    },
    {
     "ename": "ZeroDivisionError",
     "evalue": "division by zero",
     "output_type": "error",
     "traceback": [
      "\u001b[1;31m---------------------------------------------------------------------------\u001b[0m",
      "\u001b[1;31mZeroDivisionError\u001b[0m                         Traceback (most recent call last)",
      "\u001b[1;32m<ipython-input-19-62296f2c0744>\u001b[0m in \u001b[0;36m<module>\u001b[1;34m\u001b[0m\n\u001b[0;32m      1\u001b[0m \u001b[1;32mfor\u001b[0m \u001b[0mi\u001b[0m \u001b[1;32min\u001b[0m \u001b[0mrange\u001b[0m\u001b[1;33m(\u001b[0m\u001b[1;33m-\u001b[0m\u001b[1;36m5\u001b[0m\u001b[1;33m,\u001b[0m\u001b[1;36m6\u001b[0m\u001b[1;33m)\u001b[0m\u001b[1;33m:\u001b[0m\u001b[1;33m\u001b[0m\u001b[1;33m\u001b[0m\u001b[0m\n\u001b[1;32m----> 2\u001b[1;33m     \u001b[0mprint\u001b[0m \u001b[1;33m(\u001b[0m\u001b[1;34m\"100/\"\u001b[0m\u001b[1;33m,\u001b[0m\u001b[0mi\u001b[0m\u001b[1;33m,\u001b[0m\u001b[1;34m\" --> \"\u001b[0m\u001b[1;33m,\u001b[0m \u001b[1;36m100\u001b[0m\u001b[1;33m/\u001b[0m\u001b[0mi\u001b[0m\u001b[1;33m)\u001b[0m\u001b[1;33m\u001b[0m\u001b[1;33m\u001b[0m\u001b[0m\n\u001b[0m",
      "\u001b[1;31mZeroDivisionError\u001b[0m: division by zero"
     ]
    }
   ],
   "source": [
    "for i in range(-5,6):\n",
    "    print (\"100/\",i,\" --> \", 100/i)"
   ]
  },
  {
   "cell_type": "code",
   "execution_count": 20,
   "metadata": {},
   "outputs": [
    {
     "name": "stdout",
     "output_type": "stream",
     "text": [
      "100/ -5  -->  -20.0\n",
      "100/ -4  -->  -25.0\n",
      "100/ -3  -->  -33.333333333333336\n",
      "100/ -2  -->  -50.0\n",
      "100/ -1  -->  -100.0\n",
      "error\n",
      "100/ 1  -->  100.0\n",
      "100/ 2  -->  50.0\n",
      "100/ 3  -->  33.333333333333336\n",
      "100/ 4  -->  25.0\n",
      "100/ 5  -->  20.0\n"
     ]
    }
   ],
   "source": [
    "for i in range(-5,6):\n",
    "    try:\n",
    "        print (\"100/\",i,\" --> \", 100/i)\n",
    "    except:\n",
    "        print (\"error\")"
   ]
  },
  {
   "cell_type": "code",
   "execution_count": 21,
   "metadata": {},
   "outputs": [
    {
     "name": "stdout",
     "output_type": "stream",
     "text": [
      "Introduce el nombre del archivo: Archivo Python\n"
     ]
    },
    {
     "ename": "FileNotFoundError",
     "evalue": "[Errno 2] No such file or directory: 'Archivo Python'",
     "output_type": "error",
     "traceback": [
      "\u001b[1;31m---------------------------------------------------------------------------\u001b[0m",
      "\u001b[1;31mFileNotFoundError\u001b[0m                         Traceback (most recent call last)",
      "\u001b[1;32m<ipython-input-21-0516b617e37f>\u001b[0m in \u001b[0;36m<module>\u001b[1;34m\u001b[0m\n\u001b[0;32m      1\u001b[0m \u001b[0marchivo\u001b[0m\u001b[1;33m=\u001b[0m\u001b[0minput\u001b[0m\u001b[1;33m(\u001b[0m\u001b[1;34m\"Introduce el nombre del archivo: \"\u001b[0m\u001b[1;33m)\u001b[0m\u001b[1;33m\u001b[0m\u001b[1;33m\u001b[0m\u001b[0m\n\u001b[1;32m----> 2\u001b[1;33m \u001b[0mfp\u001b[0m\u001b[1;33m=\u001b[0m\u001b[0mopen\u001b[0m\u001b[1;33m(\u001b[0m\u001b[0marchivo\u001b[0m\u001b[1;33m)\u001b[0m\u001b[1;33m\u001b[0m\u001b[1;33m\u001b[0m\u001b[0m\n\u001b[0m\u001b[0;32m      3\u001b[0m \u001b[0mfp\u001b[0m\u001b[1;33m.\u001b[0m\u001b[0mclose\u001b[0m\u001b[1;33m(\u001b[0m\u001b[1;33m)\u001b[0m\u001b[1;33m\u001b[0m\u001b[1;33m\u001b[0m\u001b[0m\n\u001b[0;32m      4\u001b[0m \u001b[0mprint\u001b[0m \u001b[1;33m(\u001b[0m\u001b[1;34m\"Terminado\"\u001b[0m\u001b[1;33m)\u001b[0m\u001b[1;33m\u001b[0m\u001b[1;33m\u001b[0m\u001b[0m\n",
      "\u001b[1;31mFileNotFoundError\u001b[0m: [Errno 2] No such file or directory: 'Archivo Python'"
     ]
    }
   ],
   "source": [
    "archivo=input(\"Introduce el nombre del archivo: \")\n",
    "fp=open(archivo)\n",
    "fp.close()\n",
    "print (\"Terminado\")"
   ]
  },
  {
   "cell_type": "code",
   "execution_count": 22,
   "metadata": {},
   "outputs": [
    {
     "name": "stdout",
     "output_type": "stream",
     "text": [
      "Introduce el nombre del archivo: Archivo Python\n",
      "Error !! Archivo no encontrado\n",
      "Terminado\n"
     ]
    }
   ],
   "source": [
    "archivo=input(\"Introduce el nombre del archivo: \")\n",
    "try:\n",
    "    fp=open(archivo)\n",
    "    fp.close()\n",
    "except:\n",
    "    print (\"Error !! Archivo no encontrado\")\n",
    "\n",
    "print (\"Terminado\")"
   ]
  },
  {
   "cell_type": "code",
   "execution_count": 23,
   "metadata": {},
   "outputs": [
    {
     "name": "stdout",
     "output_type": "stream",
     "text": [
      "0  -->  1\n",
      "1  -->  2\n",
      "2  -->  3\n",
      "3  -->  4\n",
      "4  -->  5\n",
      "error\n",
      "error\n",
      "error\n"
     ]
    },
    {
     "data": {
      "text/plain": [
       "5"
      ]
     },
     "execution_count": 23,
     "metadata": {},
     "output_type": "execute_result"
    }
   ],
   "source": [
    "lista1 = [1,2,3,4,5]\n",
    "\n",
    "for i in range(8):\n",
    "    try:\n",
    "        print (i,\" --> \", lista1[i])\n",
    "    except:\n",
    "        print (\"error\")\n",
    "\n",
    "    \n",
    "len(lista1)"
   ]
  },
  {
   "cell_type": "code",
   "execution_count": 24,
   "metadata": {},
   "outputs": [
    {
     "name": "stdout",
     "output_type": "stream",
     "text": [
      "0 --> 1\n",
      "1 --> 2\n",
      "2 --> 3\n",
      "3 --> 4\n",
      "4 --> 5\n",
      "5 --> 6\n",
      "6 --> 7\n"
     ]
    }
   ],
   "source": [
    "lista1 = [1, 2, 3, 4, 5, 6, 7]\n",
    "\n",
    "for i in range(len(lista1)):\n",
    "    try:\n",
    "        print(i, \"-->\", lista1[i])\n",
    "    except:\n",
    "        print(\"Error\")"
   ]
  },
  {
   "cell_type": "markdown",
   "metadata": {},
   "source": [
    "Creación de numeros aleatorios en Python:"
   ]
  },
  {
   "cell_type": "code",
   "execution_count": 25,
   "metadata": {},
   "outputs": [
    {
     "name": "stdout",
     "output_type": "stream",
     "text": [
      "0.8286332832647932\n",
      "96\n",
      "27.895244739732114\n",
      "[2, 3, 6, 9]\n"
     ]
    }
   ],
   "source": [
    "import random as r\n",
    "print (r.random())\n",
    "print (r.randint(1, 100))\n",
    "print (r.uniform(1, 100))\n",
    "\n",
    "A=[1, 2, 3, 4, 5, 6, 7, 8, 9, 10]\n",
    "print (r.sample(A, 4))"
   ]
  },
  {
   "cell_type": "markdown",
   "metadata": {},
   "source": [
    "# Ejercicios con estructuras básicas de python"
   ]
  },
  {
   "cell_type": "markdown",
   "metadata": {},
   "source": [
    "## Ejercicios Tuplas"
   ]
  },
  {
   "cell_type": "markdown",
   "metadata": {},
   "source": [
    "- Crear una variable flotante, integer, boleana y compleja e imprimir el tipo de variable que es."
   ]
  },
  {
   "cell_type": "code",
   "execution_count": 26,
   "metadata": {},
   "outputs": [
    {
     "name": "stdout",
     "output_type": "stream",
     "text": [
      "<class 'float'> <class 'int'> <class 'bool'> <class 'complex'>\n"
     ]
    }
   ],
   "source": [
    "f = 1.5\n",
    "i = 9\n",
    "b = True\n",
    "c = 3 + 3j\n",
    "print(type(f), type(i), type(b), type(c))"
   ]
  },
  {
   "cell_type": "markdown",
   "metadata": {},
   "source": [
    "- Crear una tupla con valores enteros imprimir el primer y ultimo valor."
   ]
  },
  {
   "cell_type": "code",
   "execution_count": 27,
   "metadata": {},
   "outputs": [
    {
     "name": "stdout",
     "output_type": "stream",
     "text": [
      "3 1\n"
     ]
    }
   ],
   "source": [
    "tupla = (3,5,4,2,9,8,1)\n",
    "\n",
    "print(tupla[0],tupla[-1])"
   ]
  },
  {
   "cell_type": "markdown",
   "metadata": {},
   "source": [
    "- Añadir 3 valores de string a la tupla."
   ]
  },
  {
   "cell_type": "code",
   "execution_count": 28,
   "metadata": {},
   "outputs": [
    {
     "name": "stdout",
     "output_type": "stream",
     "text": [
      "\n",
      "Ingrese el string 1  :\n",
      "R\n",
      "\n",
      "Ingrese el string 2  :\n",
      "L\n",
      "\n",
      "Ingrese el string 3  :\n",
      "A\n",
      "\n",
      "La nueva tupla es:  ('P', 'E', 'R', 'L', 'A')\n"
     ]
    }
   ],
   "source": [
    "tup=('P','E')\n",
    "\n",
    "i = 0\n",
    "while i < 3:\n",
    "    print(\"\\nIngrese el string\", i+1,\" :\")\n",
    "    a = input()\n",
    "    tup = tup.__add__((a,))\n",
    "    i += 1\n",
    "  \n",
    "print(\"\\nLa nueva tupla es: \",tup)"
   ]
  },
  {
   "cell_type": "markdown",
   "metadata": {},
   "source": [
    "- Verificar si una variable existe dentro de la tupla."
   ]
  },
  {
   "cell_type": "code",
   "execution_count": 29,
   "metadata": {},
   "outputs": [
    {
     "name": "stdout",
     "output_type": "stream",
     "text": [
      "Ingrese la variable que desea buscar dentro de la tupla: 99\n",
      "\n",
      "El valor ingresado sí se encuentra en la tupla en la posición  3\n"
     ]
    }
   ],
   "source": [
    "tup = (1,3,99,25,18)\n",
    "\n",
    "a = int(input(\"Ingrese la variable que desea buscar dentro de la tupla: \"))\n",
    "\n",
    "if ((a in tup) == True):\n",
    "    i = tup.index(a) + 1\n",
    "    print(\"\\nEl valor ingresado sí se encuentra en la tupla en la posición \", i)\n",
    "else:\n",
    "    print(\"\\nEl valor ingresado no se encuentra en la tupla\")\n"
   ]
  },
  {
   "cell_type": "markdown",
   "metadata": {},
   "source": [
    "## Ejercicios Listas"
   ]
  },
  {
   "cell_type": "markdown",
   "metadata": {},
   "source": [
    "- Crear una lista con 40 elementos aleatorios enteros."
   ]
  },
  {
   "cell_type": "code",
   "execution_count": 30,
   "metadata": {},
   "outputs": [
    {
     "name": "stdout",
     "output_type": "stream",
     "text": [
      "[47, 68, 66, 93, 54, 81, 71, 74, 57, 8, 22, 80, 19, 21, 16, 73, 86, 15, 73, 88, 51, 7, 30, 75, 14, 99, 2, 31, 38, 71, 36, 16, 68, 43, 11, 15, 39, 21, 77, 69]\n"
     ]
    }
   ],
   "source": [
    "import random as r\n",
    "\n",
    "Lista0 = []\n",
    "\n",
    "for i in range(0,40):\n",
    "    Lista0.append(r.randint(0, 100))\n",
    "\n",
    "print(Lista0)"
   ]
  },
  {
   "cell_type": "markdown",
   "metadata": {},
   "source": [
    "- Con una funcion (def) crear dos listas nuevas a partir de la lista creada por numeros aleatorios, en la cual en una esten los elementos pares, y en la otra los elementos impares."
   ]
  },
  {
   "cell_type": "code",
   "execution_count": 31,
   "metadata": {},
   "outputs": [
    {
     "name": "stdout",
     "output_type": "stream",
     "text": [
      "\n",
      " Lista de elementos pares:  [68, 66, 54, 74, 8, 22, 80, 16, 86, 88, 30, 14, 2, 38, 36, 16, 68]\n",
      "\n",
      " Lista de elementos impares:  [47, 93, 81, 71, 57, 19, 21, 73, 15, 73, 51, 7, 75, 99, 31, 71, 43, 11, 15, 39, 21, 77, 69]\n"
     ]
    }
   ],
   "source": [
    "def clase(lista):\n",
    "    par = []\n",
    "    impar = []\n",
    "    \n",
    "    for i in range(0,len(lista)):\n",
    "        if ((-1)**lista[i] == 1):\n",
    "            par.append(lista[i])\n",
    "        else:\n",
    "            impar.append(lista[i])\n",
    "    return(par,impar)\n",
    "\n",
    "\n",
    "Lista0_par = clase(Lista0)[0]\n",
    "Lista0_impar = clase(Lista0)[1]\n",
    "\n",
    "print(\"\\n Lista de elementos pares: \",Lista0_par)\n",
    "\n",
    "print(\"\\n Lista de elementos impares: \",Lista0_impar)"
   ]
  },
  {
   "cell_type": "markdown",
   "metadata": {},
   "source": [
    "- Crear dos variables con la longitud de ambas listas nuevas e imprimir las variables."
   ]
  },
  {
   "cell_type": "code",
   "execution_count": 32,
   "metadata": {},
   "outputs": [
    {
     "name": "stdout",
     "output_type": "stream",
     "text": [
      "La longitud de la lista par es:  17\n",
      "La longitud de la lista impar es:  23\n"
     ]
    }
   ],
   "source": [
    "long_par = len(Lista0_par)\n",
    "long_impar = len(Lista0_impar)\n",
    "\n",
    "print(\"La longitud de la lista par es: \", long_par)\n",
    "print(\"La longitud de la lista impar es: \", long_impar)"
   ]
  },
  {
   "cell_type": "markdown",
   "metadata": {},
   "source": [
    "- Ordenar los elementos de la lista par de mayor a menor, y los de la lista impar de menor a mayor."
   ]
  },
  {
   "cell_type": "code",
   "execution_count": 33,
   "metadata": {},
   "outputs": [
    {
     "name": "stdout",
     "output_type": "stream",
     "text": [
      "La lista par ordenada de mayor a menor:  [88, 86, 80, 74, 68, 68, 66, 54, 38, 36, 30, 22, 16, 16, 14, 8, 2]\n",
      "La lista impar ordenada de menor a mayor:  [7, 11, 15, 15, 19, 21, 21, 31, 39, 43, 47, 51, 57, 69, 71, 71, 73, 73, 75, 77, 81, 93, 99]\n"
     ]
    }
   ],
   "source": [
    "Lista0_par.sort(reverse= True)\n",
    "Lista0_impar.sort()\n",
    "\n",
    "print(\"La lista par ordenada de mayor a menor: \" , Lista0_par)\n",
    "print(\"La lista impar ordenada de menor a mayor: \" , Lista0_impar )"
   ]
  },
  {
   "cell_type": "markdown",
   "metadata": {},
   "source": [
    "- Utilizar al menos cuatro de las funciones de listas en python en la lista original de 40 elementos."
   ]
  },
  {
   "cell_type": "code",
   "execution_count": 41,
   "metadata": {},
   "outputs": [
    {
     "name": "stdout",
     "output_type": "stream",
     "text": [
      "Introduzca el número que desea agregar a la lista original10\n",
      "La longitud de mi lista ahora es:  43 y la lista nueva es:  [47, 68, 66, 93, 54, 81, 71, 74, 57, 8, 22, 80, 19, 21, 16, 73, 86, 15, 73, 88, 51, 7, 30, 75, 14, 99, 2, 31, 38, 71, 36, 16, 68, 43, 11, 15, 39, 21, 77, 69, 5, 10, 10]\n"
     ]
    }
   ],
   "source": [
    "## Agregar 3 elementos a nuestra lista original de 40 elementos\n",
    "a = int(input(\"Introduzca el número que desea agregar a la lista original\"))\n",
    "Lista0.append(a)\n",
    "print(\"La longitud de mi lista ahora es: \",len(Lista0), \"y la lista nueva es: \",Lista0)"
   ]
  },
  {
   "cell_type": "code",
   "execution_count": 44,
   "metadata": {},
   "outputs": [
    {
     "name": "stdout",
     "output_type": "stream",
     "text": [
      "La lista sin el dato mínimo es:  [47, 68, 66, 93, 54, 81, 71, 74, 57, 8, 22, 80, 19, 21, 16, 73, 86, 15, 73, 88, 51, 30, 75, 14, 99, 31, 38, 71, 36, 16, 68, 43, 11, 15, 39, 21, 77, 69, 10, 10]\n"
     ]
    }
   ],
   "source": [
    "## Eliminar el dato mínimo de nuestra lista de elementos\n",
    "Lista0.remove(min(Lista0)) \n",
    "print(\"La lista sin el dato mínimo es: \", Lista0)\n"
   ]
  },
  {
   "cell_type": "code",
   "execution_count": 45,
   "metadata": {},
   "outputs": [
    {
     "name": "stdout",
     "output_type": "stream",
     "text": [
      "La lista al reverso es:  [10, 10, 69, 77, 21, 39, 15, 11, 43, 68, 16, 36, 71, 38, 31, 99, 14, 75, 30, 51, 88, 73, 15, 86, 73, 16, 21, 19, 80, 22, 8, 57, 74, 71, 81, 54, 93, 66, 68, 47]\n"
     ]
    }
   ],
   "source": [
    "## Mostrar los datos de la lista al revés\n",
    "Lista0.reverse()\n",
    "print(\"La lista al reverso es: \", Lista0)"
   ]
  },
  {
   "cell_type": "code",
   "execution_count": 50,
   "metadata": {},
   "outputs": [
    {
     "name": "stdout",
     "output_type": "stream",
     "text": [
      "La lista ahora está vacia:  []\n"
     ]
    }
   ],
   "source": [
    "## Eliminaremos la lista\n",
    "Lista0.clear()\n",
    "print(\"La lista ahora está vacia: \", Lista0)"
   ]
  },
  {
   "cell_type": "markdown",
   "metadata": {},
   "source": [
    "## Ejercicios Diccionario"
   ]
  },
  {
   "cell_type": "markdown",
   "metadata": {},
   "source": [
    "- Crear un diccionario de 6 personas que conozcas con su primer nombre y su edad."
   ]
  },
  {
   "cell_type": "code",
   "execution_count": 52,
   "metadata": {},
   "outputs": [],
   "source": [
    "Dic = { 'Jessica': 29, 'César':23, 'Perla':21, 'Meredith':25, 'Omar':20, 'Celia': 32}"
   ]
  },
  {
   "cell_type": "markdown",
   "metadata": {},
   "source": [
    "- Crear una lista con los valores de la edad y reacomodar la lista de menor a mayor valor."
   ]
  },
  {
   "cell_type": "code",
   "execution_count": 56,
   "metadata": {},
   "outputs": [
    {
     "name": "stdout",
     "output_type": "stream",
     "text": [
      "Las edades de menor a mayor valor es:  [20, 21, 23, 25, 29, 32]\n"
     ]
    }
   ],
   "source": [
    "Edades= sorted(Dic.values())\n",
    "\n",
    "print(\"Las edades de menor a mayor valor es: \", Edades)"
   ]
  },
  {
   "cell_type": "markdown",
   "metadata": {},
   "source": [
    "- Usando el diccionario y un loop, imprimir solo los nombres."
   ]
  },
  {
   "cell_type": "code",
   "execution_count": 58,
   "metadata": {},
   "outputs": [
    {
     "name": "stdout",
     "output_type": "stream",
     "text": [
      "Jessica\n",
      "César\n",
      "Perla\n",
      "Meredith\n",
      "Omar\n",
      "Celia\n"
     ]
    }
   ],
   "source": [
    " for i in Dic: print(i)"
   ]
  },
  {
   "cell_type": "markdown",
   "metadata": {},
   "source": [
    "- Añadir dos personas nuevas a tu diccionario, incluyendo edad."
   ]
  },
  {
   "cell_type": "code",
   "execution_count": 60,
   "metadata": {},
   "outputs": [
    {
     "name": "stdout",
     "output_type": "stream",
     "text": [
      "Ingrese el nombre de la primer persona que desea añadir: Valeria\n",
      "Ingrese la edad de la persona que añadió: 20\n",
      "\n",
      "Ingrese el nombre de la segunda persona que desea añadir: Leslye\n",
      "Ingrese la edad de la persona que añadió: 20\n",
      "\n",
      "El diccionario actualizado es:  {'Jessica': 29, 'César': 23, 'Perla': 21, 'Meredith': 25, 'Omar': 20, 'Celia': 32, 'Iván': '8', 'Rosa': '4', 'Valeria': '20', 'Leslye': '20'}\n"
     ]
    }
   ],
   "source": [
    "nom1= input(\"Ingrese el nombre de la primer persona que desea añadir: \")\n",
    "edad1= input(\"Ingrese la edad de la persona que añadió: \")\n",
    "\n",
    "nom2= input(\"\\nIngrese el nombre de la segunda persona que desea añadir: \")\n",
    "edad2= input(\"Ingrese la edad de la persona que añadió: \")\n",
    "\n",
    "Dic[nom1]=edad1\n",
    "Dic[nom2]=edad2\n",
    "\n",
    "print(\"\\nEl diccionario actualizado es: \", Dic)"
   ]
  },
  {
   "cell_type": "markdown",
   "metadata": {},
   "source": [
    "## Ejercicios Sets"
   ]
  },
  {
   "cell_type": "markdown",
   "metadata": {},
   "source": [
    "- Crea un set con 100 numeros aleatorios enteros del 1 al 25."
   ]
  },
  {
   "cell_type": "code",
   "execution_count": 62,
   "metadata": {},
   "outputs": [
    {
     "name": "stdout",
     "output_type": "stream",
     "text": [
      "Set creado:  {1, 2, 3, 4, 5, 6, 7, 8, 9, 10, 11, 12, 13, 14, 15, 16, 17, 18, 19, 20, 21, 22, 23, 24, 25}\n"
     ]
    }
   ],
   "source": [
    "import random  as r\n",
    "\n",
    "Numeros=set()\n",
    "\n",
    "for i in range(0,100):\n",
    "    Numeros.add(r.randint(1,25))\n",
    "\n",
    "print(\"Set creado: \", Numeros)"
   ]
  },
  {
   "cell_type": "markdown",
   "metadata": {},
   "source": [
    "- Comprueba la longitud de tu set."
   ]
  },
  {
   "cell_type": "code",
   "execution_count": 63,
   "metadata": {},
   "outputs": [
    {
     "name": "stdout",
     "output_type": "stream",
     "text": [
      "La longitud del set es:  25\n"
     ]
    }
   ],
   "source": [
    "print(\"La longitud del set es: \", len(Numeros))"
   ]
  },
  {
   "cell_type": "markdown",
   "metadata": {},
   "source": [
    "Debido a que los números dentro de nuestro set no se pueden repetir, únicamente se almacenan 25 datos."
   ]
  },
  {
   "cell_type": "markdown",
   "metadata": {},
   "source": [
    "- Crea una lista de 5 numeros aleatorios del 1 al 10 y comprueba si cada valor aparece en el set inicial."
   ]
  },
  {
   "cell_type": "code",
   "execution_count": 65,
   "metadata": {},
   "outputs": [
    {
     "name": "stdout",
     "output_type": "stream",
     "text": [
      "3  aparece en nuestro set inicial\n",
      "3  aparece en nuestro set inicial\n",
      "8  aparece en nuestro set inicial\n",
      "2  aparece en nuestro set inicial\n",
      "10  aparece en nuestro set inicial\n"
     ]
    }
   ],
   "source": [
    "Lista = []\n",
    "\n",
    "for i in range(0,5):\n",
    "    Lista.append(r.randint(1,10))\n",
    "    if Lista[i] in Numeros:\n",
    "        print(Lista[i], \" aparece en nuestro set inicial\")\n",
    "    else:\n",
    "        print(Lista[i], \" no aparece en nuestro set inicial\")\n",
    "\n",
    "   "
   ]
  }
 ],
 "metadata": {
  "kernelspec": {
   "display_name": "Python 3",
   "language": "python",
   "name": "python3"
  },
  "language_info": {
   "codemirror_mode": {
    "name": "ipython",
    "version": 3
   },
   "file_extension": ".py",
   "mimetype": "text/x-python",
   "name": "python",
   "nbconvert_exporter": "python",
   "pygments_lexer": "ipython3",
   "version": "3.8.3"
  }
 },
 "nbformat": 4,
 "nbformat_minor": 4
}
