{
 "cells": [
  {
   "cell_type": "markdown",
   "metadata": {},
   "source": [
    "#### Equipo 12     GRUPO : 003 (VIERNES 6p.m -9 p.m) \n",
    "##### Integrantes:\n",
    "##### 1809285 DÍAZ TALAMANTES PERLA MILLET\n",
    "##### 1819111 HERNÁNDEZ BOLAÑOS LESLYE MARISOL\n",
    "##### 1824073 SOUSA RIVERA JUAN ANTONIO"
   ]
  },
  {
   "cell_type": "markdown",
   "metadata": {},
   "source": [
    "# EJERCICIO: Limpieza de datos"
   ]
  },
  {
   "cell_type": "markdown",
   "metadata": {},
   "source": [
    "### Importar librerias y base de datos."
   ]
  },
  {
   "cell_type": "code",
   "execution_count": 1,
   "metadata": {},
   "outputs": [],
   "source": [
    "import pandas as pd \n",
    "df_2015= pd.read_csv(\"2015.csv\")\n",
    "df_2016= pd.read_csv(\"2016.csv\")\n",
    "df_2017= pd.read_csv(\"2017.csv\")\n",
    "df_2018= pd.read_csv(\"2018.csv\")\n",
    "df_2019= pd.read_csv(\"2019.csv\")\n",
    "df_per_capita= pd.read_csv(\"per capita.csv\")"
   ]
  },
  {
   "cell_type": "markdown",
   "metadata": {},
   "source": [
    "### Visualización de los datos."
   ]
  },
  {
   "cell_type": "code",
   "execution_count": 2,
   "metadata": {},
   "outputs": [
    {
     "name": "stdout",
     "output_type": "stream",
     "text": [
      "\tTablas sin manipulación\n",
      "\n",
      "Tabla del año 2015:\n",
      "          Country                           Region  Happiness Rank  \\\n",
      "0    Switzerland                   Western Europe               1   \n",
      "1        Iceland                   Western Europe               2   \n",
      "2        Denmark                   Western Europe               3   \n",
      "3         Norway                   Western Europe               4   \n",
      "4         Canada                    North America               5   \n",
      "..           ...                              ...             ...   \n",
      "153       Rwanda               Sub-Saharan Africa             154   \n",
      "154        Benin               Sub-Saharan Africa             155   \n",
      "155        Syria  Middle East and Northern Africa             156   \n",
      "156      Burundi               Sub-Saharan Africa             157   \n",
      "157         Togo               Sub-Saharan Africa             158   \n",
      "\n",
      "     Happiness Score  Standard Error  Economy (GDP per Capita)   Family  \\\n",
      "0              7.587         0.03411                   1.39651  1.34951   \n",
      "1              7.561         0.04884                   1.30232  1.40223   \n",
      "2              7.527         0.03328                   1.32548  1.36058   \n",
      "3              7.522         0.03880                   1.45900  1.33095   \n",
      "4              7.427         0.03553                   1.32629  1.32261   \n",
      "..               ...             ...                       ...      ...   \n",
      "153            3.465         0.03464                   0.22208  0.77370   \n",
      "154            3.340         0.03656                   0.28665  0.35386   \n",
      "155            3.006         0.05015                   0.66320  0.47489   \n",
      "156            2.905         0.08658                   0.01530  0.41587   \n",
      "157            2.839         0.06727                   0.20868  0.13995   \n",
      "\n",
      "     Health (Life Expectancy)  Freedom  Trust (Government Corruption)  \\\n",
      "0                     0.94143  0.66557                        0.41978   \n",
      "1                     0.94784  0.62877                        0.14145   \n",
      "2                     0.87464  0.64938                        0.48357   \n",
      "3                     0.88521  0.66973                        0.36503   \n",
      "4                     0.90563  0.63297                        0.32957   \n",
      "..                        ...      ...                            ...   \n",
      "153                   0.42864  0.59201                        0.55191   \n",
      "154                   0.31910  0.48450                        0.08010   \n",
      "155                   0.72193  0.15684                        0.18906   \n",
      "156                   0.22396  0.11850                        0.10062   \n",
      "157                   0.28443  0.36453                        0.10731   \n",
      "\n",
      "     Generosity  Dystopia Residual  \n",
      "0       0.29678            2.51738  \n",
      "1       0.43630            2.70201  \n",
      "2       0.34139            2.49204  \n",
      "3       0.34699            2.46531  \n",
      "4       0.45811            2.45176  \n",
      "..          ...                ...  \n",
      "153     0.22628            0.67042  \n",
      "154     0.18260            1.63328  \n",
      "155     0.47179            0.32858  \n",
      "156     0.19727            1.83302  \n",
      "157     0.16681            1.56726  \n",
      "\n",
      "[158 rows x 12 columns]\n",
      "\n",
      "\n",
      "Tabla del año 2016:\n",
      "          Country                           Region  Happiness Rank  \\\n",
      "0        Denmark                   Western Europe               1   \n",
      "1    Switzerland                   Western Europe               2   \n",
      "2        Iceland                   Western Europe               3   \n",
      "3         Norway                   Western Europe               4   \n",
      "4        Finland                   Western Europe               5   \n",
      "..           ...                              ...             ...   \n",
      "152        Benin               Sub-Saharan Africa             153   \n",
      "153  Afghanistan                    Southern Asia             154   \n",
      "154         Togo               Sub-Saharan Africa             155   \n",
      "155        Syria  Middle East and Northern Africa             156   \n",
      "156      Burundi               Sub-Saharan Africa             157   \n",
      "\n",
      "     Happiness Score  Lower Confidence Interval  Upper Confidence Interval  \\\n",
      "0              7.526                      7.460                      7.592   \n",
      "1              7.509                      7.428                      7.590   \n",
      "2              7.501                      7.333                      7.669   \n",
      "3              7.498                      7.421                      7.575   \n",
      "4              7.413                      7.351                      7.475   \n",
      "..               ...                        ...                        ...   \n",
      "152            3.484                      3.404                      3.564   \n",
      "153            3.360                      3.288                      3.432   \n",
      "154            3.303                      3.192                      3.414   \n",
      "155            3.069                      2.936                      3.202   \n",
      "156            2.905                      2.732                      3.078   \n",
      "\n",
      "     Economy (GDP per Capita)   Family  Health (Life Expectancy)  Freedom  \\\n",
      "0                     1.44178  1.16374                   0.79504  0.57941   \n",
      "1                     1.52733  1.14524                   0.86303  0.58557   \n",
      "2                     1.42666  1.18326                   0.86733  0.56624   \n",
      "3                     1.57744  1.12690                   0.79579  0.59609   \n",
      "4                     1.40598  1.13464                   0.81091  0.57104   \n",
      "..                        ...      ...                       ...      ...   \n",
      "152                   0.39499  0.10419                   0.21028  0.39747   \n",
      "153                   0.38227  0.11037                   0.17344  0.16430   \n",
      "154                   0.28123  0.00000                   0.24811  0.34678   \n",
      "155                   0.74719  0.14866                   0.62994  0.06912   \n",
      "156                   0.06831  0.23442                   0.15747  0.04320   \n",
      "\n",
      "     Trust (Government Corruption)  Generosity  Dystopia Residual  \n",
      "0                          0.44453     0.36171            2.73939  \n",
      "1                          0.41203     0.28083            2.69463  \n",
      "2                          0.14975     0.47678            2.83137  \n",
      "3                          0.35776     0.37895            2.66465  \n",
      "4                          0.41004     0.25492            2.82596  \n",
      "..                             ...         ...                ...  \n",
      "152                        0.06681     0.20180            2.10812  \n",
      "153                        0.07112     0.31268            2.14558  \n",
      "154                        0.11587     0.17517            2.13540  \n",
      "155                        0.17233     0.48397            0.81789  \n",
      "156                        0.09419     0.20290            2.10404  \n",
      "\n",
      "[157 rows x 13 columns]\n",
      "\n",
      "\n",
      "Tabla del año 2017:\n",
      "                       Country  Happiness.Rank  Happiness.Score  Whisker.high  \\\n",
      "0                      Norway               1            7.537      7.594445   \n",
      "1                     Denmark               2            7.522      7.581728   \n",
      "2                     Iceland               3            7.504      7.622030   \n",
      "3                 Switzerland               4            7.494      7.561772   \n",
      "4                     Finland               5            7.469      7.527542   \n",
      "..                        ...             ...              ...           ...   \n",
      "150                    Rwanda             151            3.471      3.543030   \n",
      "151                     Syria             152            3.462      3.663669   \n",
      "152                  Tanzania             153            3.349      3.461430   \n",
      "153                   Burundi             154            2.905      3.074690   \n",
      "154  Central African Republic             155            2.693      2.864884   \n",
      "\n",
      "     Whisker.low  Economy..GDP.per.Capita.    Family  \\\n",
      "0       7.479556                  1.616463  1.533524   \n",
      "1       7.462272                  1.482383  1.551122   \n",
      "2       7.385970                  1.480633  1.610574   \n",
      "3       7.426227                  1.564980  1.516912   \n",
      "4       7.410458                  1.443572  1.540247   \n",
      "..           ...                       ...       ...   \n",
      "150     3.398970                  0.368746  0.945707   \n",
      "151     3.260331                  0.777153  0.396103   \n",
      "152     3.236570                  0.511136  1.041990   \n",
      "153     2.735310                  0.091623  0.629794   \n",
      "154     2.521116                  0.000000  0.000000   \n",
      "\n",
      "     Health..Life.Expectancy.   Freedom  Generosity  \\\n",
      "0                    0.796667  0.635423    0.362012   \n",
      "1                    0.792566  0.626007    0.355280   \n",
      "2                    0.833552  0.627163    0.475540   \n",
      "3                    0.858131  0.620071    0.290549   \n",
      "4                    0.809158  0.617951    0.245483   \n",
      "..                        ...       ...         ...   \n",
      "150                  0.326425  0.581844    0.252756   \n",
      "151                  0.500533  0.081539    0.493664   \n",
      "152                  0.364509  0.390018    0.354256   \n",
      "153                  0.151611  0.059901    0.204435   \n",
      "154                  0.018773  0.270842    0.280876   \n",
      "\n",
      "     Trust..Government.Corruption.  Dystopia.Residual  \n",
      "0                         0.315964           2.277027  \n",
      "1                         0.400770           2.313707  \n",
      "2                         0.153527           2.322715  \n",
      "3                         0.367007           2.276716  \n",
      "4                         0.382612           2.430182  \n",
      "..                             ...                ...  \n",
      "150                       0.455220           0.540061  \n",
      "151                       0.151347           1.061574  \n",
      "152                       0.066035           0.621130  \n",
      "153                       0.084148           1.683024  \n",
      "154                       0.056565           2.066005  \n",
      "\n",
      "[155 rows x 12 columns]\n",
      "\n",
      "\n",
      "Tabla del año 2018:\n",
      "      Overall rank         Country or region  Score  GDP per capita  \\\n",
      "0               1                   Finland  7.632           1.305   \n",
      "1               2                    Norway  7.594           1.456   \n",
      "2               3                   Denmark  7.555           1.351   \n",
      "3               4                   Iceland  7.495           1.343   \n",
      "4               5               Switzerland  7.487           1.420   \n",
      "..            ...                       ...    ...             ...   \n",
      "151           152                     Yemen  3.355           0.442   \n",
      "152           153                  Tanzania  3.303           0.455   \n",
      "153           154               South Sudan  3.254           0.337   \n",
      "154           155  Central African Republic  3.083           0.024   \n",
      "155           156                   Burundi  2.905           0.091   \n",
      "\n",
      "     Social support  Healthy life expectancy  Freedom to make life choices  \\\n",
      "0             1.592                    0.874                         0.681   \n",
      "1             1.582                    0.861                         0.686   \n",
      "2             1.590                    0.868                         0.683   \n",
      "3             1.644                    0.914                         0.677   \n",
      "4             1.549                    0.927                         0.660   \n",
      "..              ...                      ...                           ...   \n",
      "151           1.073                    0.343                         0.244   \n",
      "152           0.991                    0.381                         0.481   \n",
      "153           0.608                    0.177                         0.112   \n",
      "154           0.000                    0.010                         0.305   \n",
      "155           0.627                    0.145                         0.065   \n",
      "\n",
      "     Generosity  Perceptions of corruption  \n",
      "0         0.202                      0.393  \n",
      "1         0.286                      0.340  \n",
      "2         0.284                      0.408  \n",
      "3         0.353                      0.138  \n",
      "4         0.256                      0.357  \n",
      "..          ...                        ...  \n",
      "151       0.083                      0.064  \n",
      "152       0.270                      0.097  \n",
      "153       0.224                      0.106  \n",
      "154       0.218                      0.038  \n",
      "155       0.149                      0.076  \n",
      "\n",
      "[156 rows x 9 columns]\n",
      "\n",
      "\n",
      "Tabla del año 2019:\n",
      "      Overall rank         Country or region  Score  GDP per capita  \\\n",
      "0               1                   Finland  7.769           1.340   \n",
      "1               2                   Denmark  7.600           1.383   \n",
      "2               3                    Norway  7.554           1.488   \n",
      "3               4                   Iceland  7.494           1.380   \n",
      "4               5               Netherlands  7.488           1.396   \n",
      "..            ...                       ...    ...             ...   \n",
      "151           152                    Rwanda  3.334           0.359   \n",
      "152           153                  Tanzania  3.231           0.476   \n",
      "153           154               Afghanistan  3.203           0.350   \n",
      "154           155  Central African Republic  3.083           0.026   \n",
      "155           156               South Sudan  2.853           0.306   \n",
      "\n",
      "     Social support  Healthy life expectancy  Freedom to make life choices  \\\n",
      "0             1.587                    0.986                         0.596   \n",
      "1             1.573                    0.996                         0.592   \n",
      "2             1.582                    1.028                         0.603   \n",
      "3             1.624                    1.026                         0.591   \n",
      "4             1.522                    0.999                         0.557   \n",
      "..              ...                      ...                           ...   \n",
      "151           0.711                    0.614                         0.555   \n",
      "152           0.885                    0.499                         0.417   \n",
      "153           0.517                    0.361                         0.000   \n",
      "154           0.000                    0.105                         0.225   \n",
      "155           0.575                    0.295                         0.010   \n",
      "\n",
      "     Generosity  Perceptions of corruption  \n",
      "0         0.153                      0.393  \n",
      "1         0.252                      0.410  \n",
      "2         0.271                      0.341  \n",
      "3         0.354                      0.118  \n",
      "4         0.322                      0.298  \n",
      "..          ...                        ...  \n",
      "151       0.217                      0.411  \n",
      "152       0.276                      0.147  \n",
      "153       0.158                      0.025  \n",
      "154       0.235                      0.035  \n",
      "155       0.202                      0.091  \n",
      "\n",
      "[156 rows x 9 columns]\n"
     ]
    },
    {
     "name": "stdout",
     "output_type": "stream",
     "text": [
      "\n",
      "\n",
      "Tabla de Per Capita:\n",
      "           Entity Code  Year  \\\n",
      "0    Afghanistan  AFG  2016   \n",
      "1        Albania  ALB  2016   \n",
      "2        Algeria  DZA  2016   \n",
      "3         Angola  AGO  2016   \n",
      "4      Argentina  ARG  2016   \n",
      "..           ...  ...   ...   \n",
      "161    Venezuela  VEN  2016   \n",
      "162      Vietnam  VNM  2016   \n",
      "163        Yemen  YEM  2016   \n",
      "164       Zambia  ZMB  2016   \n",
      "165     Zimbabwe  ZWE  2016   \n",
      "\n",
      "      Real GDP per capita in 2011US$, 2011 benchmark (Maddison Project Database (2018))   \n",
      "0                                               1929.0                                    \n",
      "1                                              10342.0                                    \n",
      "2                                              14331.0                                    \n",
      "3                                               8453.0                                    \n",
      "4                                              18875.0                                    \n",
      "..                                                 ...                                    \n",
      "161                                            15219.0                                    \n",
      "162                                             6062.0                                    \n",
      "163                                             2506.0                                    \n",
      "164                                             3479.0                                    \n",
      "165                                             1534.0                                    \n",
      "\n",
      "[166 rows x 4 columns]\n"
     ]
    }
   ],
   "source": [
    "print(\"\\tTablas sin manipulación\\n\\nTabla del año 2015:\\n\", df_2015)\n",
    "print(\"\\n\\nTabla del año 2016:\\n\", df_2016)\n",
    "print(\"\\n\\nTabla del año 2017:\\n\", df_2017)\n",
    "print(\"\\n\\nTabla del año 2018:\\n\", df_2018)\n",
    "print(\"\\n\\nTabla del año 2019:\\n\", df_2019)\n",
    "print(\"\\n\\nTabla de Per Capita:\\n\", df_per_capita)"
   ]
  },
  {
   "cell_type": "markdown",
   "metadata": {},
   "source": [
    "- Descripción básica de columnas (tipo, elementos, celdas vacias, etc.)"
   ]
  },
  {
   "cell_type": "code",
   "execution_count": 3,
   "metadata": {},
   "outputs": [
    {
     "name": "stdout",
     "output_type": "stream",
     "text": [
      "\n",
      "Tipo de datos de la tabla del 2015:\n",
      " Country                           object\n",
      "Region                            object\n",
      "Happiness Rank                     int64\n",
      "Happiness Score                  float64\n",
      "Standard Error                   float64\n",
      "Economy (GDP per Capita)         float64\n",
      "Family                           float64\n",
      "Health (Life Expectancy)         float64\n",
      "Freedom                          float64\n",
      "Trust (Government Corruption)    float64\n",
      "Generosity                       float64\n",
      "Dystopia Residual                float64\n",
      "dtype: object\n",
      "\n",
      "Tipo de datos de la tabla del 2016:\n",
      " Country                           object\n",
      "Region                            object\n",
      "Happiness Rank                     int64\n",
      "Happiness Score                  float64\n",
      "Lower Confidence Interval        float64\n",
      "Upper Confidence Interval        float64\n",
      "Economy (GDP per Capita)         float64\n",
      "Family                           float64\n",
      "Health (Life Expectancy)         float64\n",
      "Freedom                          float64\n",
      "Trust (Government Corruption)    float64\n",
      "Generosity                       float64\n",
      "Dystopia Residual                float64\n",
      "dtype: object\n",
      "\n",
      "Tipo de datos de la tabla del 2017:\n",
      " Country                           object\n",
      "Happiness.Rank                     int64\n",
      "Happiness.Score                  float64\n",
      "Whisker.high                     float64\n",
      "Whisker.low                      float64\n",
      "Economy..GDP.per.Capita.         float64\n",
      "Family                           float64\n",
      "Health..Life.Expectancy.         float64\n",
      "Freedom                          float64\n",
      "Generosity                       float64\n",
      "Trust..Government.Corruption.    float64\n",
      "Dystopia.Residual                float64\n",
      "dtype: object\n",
      "\n",
      "Tipo de datos de la tabla del 2018:\n",
      " Overall rank                      int64\n",
      "Country or region                object\n",
      "Score                           float64\n",
      "GDP per capita                  float64\n",
      "Social support                  float64\n",
      "Healthy life expectancy         float64\n",
      "Freedom to make life choices    float64\n",
      "Generosity                      float64\n",
      "Perceptions of corruption       float64\n",
      "dtype: object\n",
      "\n",
      "Tipo de datos de la tabla del 2019:\n",
      " Overall rank                      int64\n",
      "Country or region                object\n",
      "Score                           float64\n",
      "GDP per capita                  float64\n",
      "Social support                  float64\n",
      "Healthy life expectancy         float64\n",
      "Freedom to make life choices    float64\n",
      "Generosity                      float64\n",
      "Perceptions of corruption       float64\n",
      "dtype: object\n",
      "\n",
      "Tipo de datos de la tabla del per capita:\n",
      " Entity                                                                                  object\n",
      "Code                                                                                    object\n",
      "Year                                                                                     int64\n",
      " Real GDP per capita in 2011US$, 2011 benchmark (Maddison Project Database (2018))     float64\n",
      "dtype: object\n"
     ]
    }
   ],
   "source": [
    "print(\"\\nTipo de datos de la tabla del 2015:\\n\",df_2015.dtypes)\n",
    "print(\"\\nTipo de datos de la tabla del 2016:\\n\",df_2016.dtypes)\n",
    "print(\"\\nTipo de datos de la tabla del 2017:\\n\",df_2017.dtypes)\n",
    "print(\"\\nTipo de datos de la tabla del 2018:\\n\",df_2018.dtypes)\n",
    "print(\"\\nTipo de datos de la tabla del 2019:\\n\",df_2019.dtypes)\n",
    "print(\"\\nTipo de datos de la tabla del per capita:\\n\",df_per_capita.dtypes)"
   ]
  },
  {
   "cell_type": "code",
   "execution_count": 4,
   "metadata": {},
   "outputs": [
    {
     "name": "stdout",
     "output_type": "stream",
     "text": [
      "\t\t(renglones,columnas)\n",
      "Tabla de 2015:  (158, 12)\n",
      "Tabla de 2016:  (157, 13)\n",
      "Tabla de 2017:  (155, 12)\n",
      "Tabla de 2018:  (156, 9)\n",
      "Tabla de 2019:  (156, 9)\n",
      "Tabla de per capita:  (166, 4)\n"
     ]
    }
   ],
   "source": [
    "print(\"\\t\\t(renglones,columnas)\\nTabla de 2015: \", df_2015.shape)\n",
    "print(\"Tabla de 2016: \", df_2016.shape)\n",
    "print(\"Tabla de 2017: \", df_2017.shape)\n",
    "print(\"Tabla de 2018: \", df_2018.shape)\n",
    "print(\"Tabla de 2019: \", df_2019.shape)\n",
    "print(\"Tabla de per capita: \", df_per_capita.shape)"
   ]
  },
  {
   "cell_type": "code",
   "execution_count": 5,
   "metadata": {},
   "outputs": [
    {
     "name": "stdout",
     "output_type": "stream",
     "text": [
      "\tNombres de las columnas\n",
      "Año 2015\n",
      " Index(['Country', 'Region', 'Happiness Rank', 'Happiness Score',\n",
      "       'Standard Error', 'Economy (GDP per Capita)', 'Family',\n",
      "       'Health (Life Expectancy)', 'Freedom', 'Trust (Government Corruption)',\n",
      "       'Generosity', 'Dystopia Residual'],\n",
      "      dtype='object')\n",
      "\n",
      "Año 2016\n",
      " Index(['Country', 'Region', 'Happiness Rank', 'Happiness Score',\n",
      "       'Lower Confidence Interval', 'Upper Confidence Interval',\n",
      "       'Economy (GDP per Capita)', 'Family', 'Health (Life Expectancy)',\n",
      "       'Freedom', 'Trust (Government Corruption)', 'Generosity',\n",
      "       'Dystopia Residual'],\n",
      "      dtype='object')\n",
      "\n",
      "Año 2017\n",
      " Index(['Country', 'Happiness.Rank', 'Happiness.Score', 'Whisker.high',\n",
      "       'Whisker.low', 'Economy..GDP.per.Capita.', 'Family',\n",
      "       'Health..Life.Expectancy.', 'Freedom', 'Generosity',\n",
      "       'Trust..Government.Corruption.', 'Dystopia.Residual'],\n",
      "      dtype='object')\n",
      "\n",
      "Año 2018\n",
      " Index(['Overall rank', 'Country or region', 'Score', 'GDP per capita',\n",
      "       'Social support', 'Healthy life expectancy',\n",
      "       'Freedom to make life choices', 'Generosity',\n",
      "       'Perceptions of corruption'],\n",
      "      dtype='object')\n",
      "\n",
      "Año 2019\n",
      " Index(['Overall rank', 'Country or region', 'Score', 'GDP per capita',\n",
      "       'Social support', 'Healthy life expectancy',\n",
      "       'Freedom to make life choices', 'Generosity',\n",
      "       'Perceptions of corruption'],\n",
      "      dtype='object')\n",
      "\n",
      "Per capita\n",
      " Index(['Entity', 'Code', 'Year',\n",
      "       ' Real GDP per capita in 2011US$, 2011 benchmark (Maddison Project Database (2018)) '],\n",
      "      dtype='object')\n"
     ]
    }
   ],
   "source": [
    "print(\"\\tNombres de las columnas\\nAño 2015\\n\", df_2015.columns)\n",
    "print(\"\\nAño 2016\\n\", df_2016.columns)\n",
    "print(\"\\nAño 2017\\n\", df_2017.columns)\n",
    "print(\"\\nAño 2018\\n\", df_2018.columns)\n",
    "print(\"\\nAño 2019\\n\", df_2019.columns)\n",
    "print(\"\\nPer capita\\n\", df_per_capita.columns)"
   ]
  },
  {
   "cell_type": "markdown",
   "metadata": {},
   "source": [
    "### Cambio de los nombres de  las columnas."
   ]
  },
  {
   "cell_type": "code",
   "execution_count": 6,
   "metadata": {},
   "outputs": [],
   "source": [
    "t1=\" 2015\"\n",
    "t2=\" 2016\"\n",
    "t3=\" 2017\"\n",
    "t4=\" 2018\"\n",
    "t5=\" 2019\"\n",
    "RG=\"Region\"\n",
    "CD=\"Country\"\n",
    "HP=\"Happiness Rank\"\n",
    "HS=\"Happiness Score\"\n",
    "SE=\"Standard Error\"\n",
    "GDP=\"Economy_(GDP_per_Capita)\"\n",
    "FAM=\"Family\"\n",
    "LE=\"Health (Life Expectancy)\"\n",
    "FRE=\"Freedom\"\n",
    "TC=\"Trust (Government Corruption)\"\n",
    "GEN=\"Generosity\"\n",
    "DR=\"Dystopia Residual\"\n",
    "LI=\"Lower Confidence Interval\"\n",
    "UIC=\"Upper Confidence Interval\"\n",
    "WH=\"Whisker high\"\n",
    "WL=\"Whisker low\"\n",
    "PC=\"Per Capita\"\n",
    "CR=\"Code\"\n",
    "Y=\"Year\"\n",
    "\n",
    "df_2015=df_2015.rename(columns = {\n",
    "     'Happiness Rank': HP+t1, 'Happiness Score':HS+t1,\n",
    "       'Standard Error':SE+t1, 'Economy (GDP per Capita)': GDP+t1, 'Family': FAM+t1,\n",
    "       'Health (Life Expectancy)': LE+t1, 'Freedom':FRE+t1, 'Trust (Government Corruption)':TC+t1,\n",
    "       'Generosity':GEN+t1, 'Dystopia Residual':DR+t1})\n",
    "df_2016=df_2016.rename(columns = {\n",
    "    'Happiness Rank': HP+t2, 'Happiness Score':HS+t2,'Lower Confidence Interval':LI+t2,\n",
    "       'Standard Error':SE+t2, 'Economy (GDP per Capita)': GDP+t2, 'Family': FAM+t2,\n",
    "       'Health (Life Expectancy)': LE+t2, 'Freedom':FRE+t2, 'Trust (Government Corruption)':TC+t2,\n",
    "       'Generosity':GEN+t2, 'Dystopia Residual':DR+t2})\n",
    "\n",
    "df_2017=df_2017.rename(columns = {\n",
    "    'Happiness.Rank': HP+t3, 'Happiness.Score':HS+t3,'Whisker.low':LI+t3,\n",
    "       'Economy..GDP.per.Capita.': GDP+t3, 'Family': FAM+t3,\n",
    "       'Health..Life.Expectancy.': LE+t3, 'Freedom':FRE+t3, 'Trust..Government.Corruption.':TC+t3,\n",
    "       'Generosity':GEN+t3, 'Dystopia.Residual':DR+t3})\n",
    "\n",
    "df_2018=df_2018.rename(columns = {\n",
    "    'Country or region':CD,'Score':HS+t4,'GDP per capita': GDP+t4, 'Social support': FAM+t4,\n",
    "       'Healthy life expectancy': LE+t4, 'Freedom to make life choices':FRE+t4,\n",
    "       'Generosity':GEN+t4})\n",
    "\n",
    "df_2019=df_2019.rename(columns = {\n",
    "    'Country or region':CD,'Score':HS+t5,'GDP per capita': GDP+t5, 'Social support': FAM+t5,\n",
    "       'Healthy life expectancy': LE+t5, 'Freedom to make life choices':FRE+t5, 'Perceptions of corruption':TC+t5,\n",
    "       'Generosity':GEN+t5})\n",
    "df_per_capita=df_per_capita.rename(columns={\n",
    "    'Entity': CD, 'Code': CR, 'Year': Y,\n",
    "       ' Real GDP per capita in 2011US$, 2011 benchmark (Maddison Project Database (2018)) ':PC})"
   ]
  },
  {
   "cell_type": "markdown",
   "metadata": {},
   "source": [
    "Unimos las tablas por la columna Country, ya que, deseamos tener unicamente los países que se repiten en las 5 tablas. "
   ]
  },
  {
   "cell_type": "code",
   "execution_count": 7,
   "metadata": {
    "scrolled": true
   },
   "outputs": [],
   "source": [
    "df_1516=pd.merge(left=df_2015,right=df_2016, left_on='Country', right_on='Country')\n",
    "df_1517=pd.merge(left=df_1516,right=df_2017, left_on='Country', right_on='Country')\n",
    "df_1518=pd.merge(left=df_1517,right=df_2018, left_on='Country', right_on='Country')\n",
    "df_1519=pd.merge(left=df_1518,right=df_2019, left_on='Country', right_on='Country')\n",
    "df_1=pd.merge(left=df_1519,right=df_per_capita, left_on='Country', right_on='Country')\n"
   ]
  },
  {
   "cell_type": "markdown",
   "metadata": {},
   "source": [
    "- Eliminar columnas\n",
    "\n",
    "Procederemos a eliminar las columnas que tengas datos nulos, ya que, esto indicará que no están presentes en la tablas que necesitaremos.\n",
    "Después tomaremos únicamente las columnas que necesiatamos, en nuestro caso son , Ciudad, Happiness Score,Economy (GDP per Capita), Freedom ,Health (Life Expectancy, Trust (Government Corruption), Generosity."
   ]
  },
  {
   "cell_type": "code",
   "execution_count": 8,
   "metadata": {},
   "outputs": [],
   "source": [
    "import string\n",
    "df_1 = df_1.dropna()\n",
    "columns = [\"Country\",\"Happiness Score 2015\",\"Happiness Score 2016\", \"Happiness Score 2017\", \"Happiness Score 2018\", \"Happiness Score 2019\",\"Economy (GDP per Capita) 2015\", \"Economy (GDP per Capita) 2016\",\"Economy (GDP per Capita) 2017\",\"Economy (GDP per Capita) 2018\",\"Economy (GDP per Capita) 2019\",\"Family 2015\",\"Family 2016\",\"Family 2017\",\"Family 2018\",\"Family 2019\",\"Health (Life Expectancy) 2015\",\"Health (Life Expectancy) 2016\",\"Health (Life Expectancy) 2017\",\"Health (Life Expectancy) 2018\",\"Health (Life Expectancy) 2019\", \"Freedom 2015\", \"Freedom 2016\", \"Freedom 2017\", \"Freedom 2018\", \"Freedom 2019\",\"Trust (Government Corruption) 2015\", \"Trust (Government Corruption) 2016\",\"Trust (Government Corruption) 2017\",\"Perceptions of corruption\",\"Trust (Government Corruption) 2019\",\"Generosity 2015\",\"Generosity 2016\",\"Generosity 2017\",\"Generosity 2018\",\"Generosity 2019\",\"Code\",\"Year\",\"Per Capita\"]\n",
    "dfinal = pd.DataFrame(df_1, columns=columns) \n"
   ]
  },
  {
   "cell_type": "markdown",
   "metadata": {},
   "source": [
    "### Guardar otros archivos con agrupaciones"
   ]
  },
  {
   "cell_type": "markdown",
   "metadata": {},
   "source": [
    "Guardar Consolidado"
   ]
  },
  {
   "cell_type": "code",
   "execution_count": 9,
   "metadata": {
    "scrolled": true
   },
   "outputs": [],
   "source": [
    "dfinal.to_csv('archivofinal2.csv')\n"
   ]
  },
  {
   "cell_type": "markdown",
   "metadata": {},
   "source": [
    "- Agrupacion por Felicidad"
   ]
  },
  {
   "cell_type": "markdown",
   "metadata": {},
   "source": [
    "Para este caso se utiliza la media de la felicidad del año 2015 para así obtener los países arriba del promedio considerándolos como los más felices y los que se encuentran por debajo del promedio siendo los menos felices."
   ]
  },
  {
   "cell_type": "code",
   "execution_count": 10,
   "metadata": {},
   "outputs": [],
   "source": [
    "a= float\n",
    "\n",
    "a=dfinal['Happiness Score 2015'].describe()['mean']\n",
    "MasFelices = dfinal[dfinal['Happiness Score 2015']>=a]\n",
    "MenosFelices = dfinal[dfinal['Happiness Score 2015']<=a]\n",
    "MasFelices.to_csv('Masfelices.csv', index=False)\n",
    "MenosFelices.to_csv('MenosFelices.csv', index=False)"
   ]
  },
  {
   "cell_type": "markdown",
   "metadata": {},
   "source": [
    "- Agrupación por Riqueza"
   ]
  },
  {
   "cell_type": "markdown",
   "metadata": {},
   "source": [
    "Para esta agrupación, utilizamos una base de datos en donde teneamos el per capita del 2016 y calculamos su media para categorizar a los más ricos como los que estaban por encima de esta y a los menos ricos a los que estaban por debajo."
   ]
  },
  {
   "cell_type": "code",
   "execution_count": 11,
   "metadata": {},
   "outputs": [
    {
     "name": "stdout",
     "output_type": "stream",
     "text": [
      "19325.66417910448\n"
     ]
    }
   ],
   "source": [
    "b= float\n",
    "\n",
    "b=dfinal['Per Capita'].describe()['mean']\n",
    "MasRicos = dfinal[dfinal['Per Capita']>=b]\n",
    "MenosRicos = dfinal[dfinal['Per Capita']<=b]\n",
    "MasRicos.to_csv('MasRicos.csv', index=False)\n",
    "MenosRicos.to_csv('MenosRicos.csv', index=False)\n",
    "print(b)"
   ]
  },
  {
   "cell_type": "markdown",
   "metadata": {},
   "source": [
    "### Responder las preguntas de interes"
   ]
  },
  {
   "cell_type": "markdown",
   "metadata": {},
   "source": [
    "- 1.-¿Para que me puede servir estas agrupaciones para la práctica siguiente?"
   ]
  },
  {
   "cell_type": "markdown",
   "metadata": {},
   "source": [
    "Para tener un mejor control de datos ya que al segmentarlos se torna más fácil su manipulación, encontrar los valores nulos de una manera más controlada."
   ]
  },
  {
   "cell_type": "markdown",
   "metadata": {},
   "source": [
    "- 2.- Importancia del analisis previo de los datos antes de iniciar las modificaciones"
   ]
  },
  {
   "cell_type": "markdown",
   "metadata": {},
   "source": [
    "De esta forma podemos tener muy bien clasificados los datos de nuestra base de datos lo que nos permitira un mejor manejo,\n",
    "asi mismo el limpiar la base quitando los valores nulos nos permite no tener que volver a la base de datos cuando ya se esté trabajando en ella y así evitar las incidencias de cálculos debido a estos valores."
   ]
  },
  {
   "cell_type": "markdown",
   "metadata": {},
   "source": [
    "### Investigar los siguientes comandos: ?df.dropna() ?df.astype()"
   ]
  },
  {
   "cell_type": "markdown",
   "metadata": {},
   "source": [
    "- 1.- ?df.dropna() "
   ]
  },
  {
   "cell_type": "markdown",
   "metadata": {},
   "source": [
    "El método dropna nos permite eliminar las filas o columnas que contienen algun valor #NA, \n",
    "se tienen 3 formas \n",
    "la primera es df.dropna() la cual elimina la fila donde se tiene el valor, \n",
    "la segunda df.dropna(axis=1) la cual elimina la columna donde se encuentra la incidencia, \n",
    "la tercera df.dropna(how=\"all\") elimina las filas donde todos los valores sean #NA."
   ]
  },
  {
   "cell_type": "markdown",
   "metadata": {},
   "source": [
    "- 2.- ?df.astype()"
   ]
  },
  {
   "cell_type": "markdown",
   "metadata": {},
   "source": [
    "El método astype nos permite cambiar el tipo de datos de una columna entera\n",
    "se utiliza df.name=df.name.astype('type'),\n",
    "name es el nombre de la columna, \n",
    "type el tipo de datos al que queremos cambiar."
   ]
  },
  {
   "cell_type": "markdown",
   "metadata": {},
   "source": [
    "### Realizar una tarea de preprocesamiento no mencionada en esta práctica"
   ]
  },
  {
   "cell_type": "markdown",
   "metadata": {},
   "source": [
    "Se utilizo la de Unión de datos en el paso 7."
   ]
  },
  {
   "cell_type": "markdown",
   "metadata": {},
   "source": [
    "Bibliografía de donde sacamos la tarea de preprocesamiento Unión: https://datacarpentry.org/python-ecology-lesson-es/05-merging-data/"
   ]
  }
 ],
 "metadata": {
  "kernelspec": {
   "display_name": "Python 3",
   "language": "python",
   "name": "python3"
  },
  "language_info": {
   "codemirror_mode": {
    "name": "ipython",
    "version": 3
   },
   "file_extension": ".py",
   "mimetype": "text/x-python",
   "name": "python",
   "nbconvert_exporter": "python",
   "pygments_lexer": "ipython3",
   "version": "3.8.3"
  }
 },
 "nbformat": 4,
 "nbformat_minor": 4
}
